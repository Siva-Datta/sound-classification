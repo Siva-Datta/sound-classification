{
 "cells": [
  {
   "cell_type": "code",
   "execution_count": 2,
   "metadata": {},
   "outputs": [
    {
     "name": "stdout",
     "output_type": "stream",
     "text": [
      "Number of clips used for training are:4619\n",
      "        ID             Class\n",
      "0        0             siren\n",
      "1        1      street_music\n",
      "2        2          drilling\n",
      "3        3             siren\n",
      "4        4          dog_bark\n",
      "5        6  children_playing\n",
      "6       10      street_music\n",
      "7       11          drilling\n",
      "8       12          gun_shot\n",
      "9       15          dog_bark\n",
      "10      17     engine_idling\n",
      "11      18             siren\n",
      "12      19          gun_shot\n",
      "13      20     engine_idling\n",
      "14      22   air_conditioner\n",
      "15      24   air_conditioner\n",
      "16      26     engine_idling\n",
      "17      27             siren\n",
      "18      32  children_playing\n",
      "19      33        jackhammer\n",
      "20      35          gun_shot\n",
      "21      36             siren\n",
      "22      37        jackhammer\n",
      "23      38      street_music\n",
      "24      40        jackhammer\n",
      "25      42     engine_idling\n",
      "26      43             siren\n",
      "27      44  children_playing\n",
      "28      45        jackhammer\n",
      "29      46     engine_idling\n",
      "...    ...               ...\n",
      "5405  8691      street_music\n",
      "5406  8693          car_horn\n",
      "5407  8694      street_music\n",
      "5408  8695   air_conditioner\n",
      "5409  8699      street_music\n",
      "5410  8701   air_conditioner\n",
      "5411  8703          gun_shot\n",
      "5412  8704             siren\n",
      "5413  8705        jackhammer\n",
      "5414  8706             siren\n",
      "5415  8707          gun_shot\n",
      "5416  8709          dog_bark\n",
      "5417  8710      street_music\n",
      "5418  8711          dog_bark\n",
      "5419  8712        jackhammer\n",
      "5420  8713          dog_bark\n",
      "5421  8714     engine_idling\n",
      "5422  8715             siren\n",
      "5423  8716  children_playing\n",
      "5424  8717        jackhammer\n",
      "5425  8720      street_music\n",
      "5426  8721     engine_idling\n",
      "5427  8722          dog_bark\n",
      "5428  8723      street_music\n",
      "5429  8724  children_playing\n",
      "5430  8725     engine_idling\n",
      "5431  8726          dog_bark\n",
      "5432  8727     engine_idling\n",
      "5433  8728     engine_idling\n",
      "5434  8729   air_conditioner\n",
      "\n",
      "[5435 rows x 2 columns]\n",
      "Guessing from classes : ['siren', 'street_music', 'drilling', 'dog_bark', 'children_playing', 'gun_shot', 'engine_idling', 'air_conditioner', 'jackhammer', 'car_horn']\n"
     ]
    }
   ],
   "source": [
    "import matplotlib.pyplot as plt\n",
    "import librosa \n",
    "import os\n",
    "import numpy as np\n",
    "import pandas as pd\n",
    "import timeit\n",
    "import sklearn\n",
    "from sklearn.model_selection import train_test_split\n",
    "from sklearn.neighbors import KNeighborsClassifier\n",
    "from sklearn.preprocessing import  MinMaxScaler\n",
    "import heapq\n",
    "from collections import Counter\n",
    "from sklearn.metrics.pairwise import cosine_similarity\n",
    "from sklearn import datasets, model_selection\n",
    "from sklearn.metrics import classification_report\n",
    "from sklearn import svm\n",
    "from sklearn import metrics\n",
    "from sklearn.svm import LinearSVC\n",
    "from sklearn.svm import SVC\n",
    "from sklearn.ensemble import RandomForestClassifier\n",
    "from sklearn.metrics import roc_curve, auc\n",
    "\n",
    "'''\n",
    "#Assumed you have, X (predictor) and Y (target) for training data set and x_test(predictor) of test_dataset\n",
    "# Create SVM classification object \n",
    "model = svm.svc(kernel='linear', c=1, gamma=1) \n",
    "# there is various option associated with it, like changing kernel, gamma and C value. Will discuss more # about it in next section.Train the model using the training sets and check score\n",
    "model.fit(X, y)\n",
    "model.score(X, y)\n",
    "'''\n",
    "import warnings\n",
    "warnings.filterwarnings(\"ignore\")\n",
    "\n",
    "\n",
    "\n",
    "\n",
    "scaler=MinMaxScaler()\n",
    "tr_f=os.listdir('train/Train/')\n",
    "#tr_f=os.listdir('train/Train/')\n",
    "\n",
    "#print(tr_f[0])\n",
    "\n",
    "print('Number of clips used for training are:{}'.format(int(len(tr_f)*0.85)))\n",
    "#tr_f.sort()\n",
    "fstart=timeit.default_timer()\n",
    "\n",
    "#print('\\nShowing First 5 of training set:{}'.format(tr_f[:5]))\n",
    "data=pd.read_csv('train/train.csv')\n",
    "#data=pd.read_csv('train/train.csv')\n",
    "\n",
    "print(data)\n",
    "\n",
    "y=list(data['Class'].values)\n",
    "#y=np.array(y)\n",
    "#y=y.reshape(len(tr_f),1)\n",
    "\n",
    "\n",
    "\n",
    "\n",
    "types=list(data.Class.unique())\n",
    "print('Guessing from classes : {}'.format(types))\n",
    "\n",
    "\n",
    "\n"
   ]
  },
  {
   "cell_type": "code",
   "execution_count": 37,
   "metadata": {},
   "outputs": [
    {
     "name": "stdout",
     "output_type": "stream",
     "text": [
      "Sampling rate :  22050 \n",
      "Total frames considered (4*sr/512) :  172\n",
      "Shape of mfccs :  (20, 173)\n"
     ]
    }
   ],
   "source": [
    "x,sr=librosa.load('train/Train/'+tr_f[0])\n",
    "mfccs=librosa.feature.mfcc(x,sr=sr)\n",
    "print('Sampling rate : ',sr,'\\nTotal frames considered (4*sr/512) : ',int(4*sr/512))\n",
    "print('Shape of mfccs : ',np.shape(mfccs))"
   ]
  },
  {
   "cell_type": "code",
   "execution_count": 3,
   "metadata": {},
   "outputs": [
    {
     "name": "stdout",
     "output_type": "stream",
     "text": [
      "\n",
      "Reached: 905\n",
      "time :195.62\n",
      "\n",
      "Reached: 1810\n",
      "time :387.90\n",
      "\n",
      "Reached: 2715\n",
      "time :582.37\n",
      "\n",
      "Reached: 3620\n",
      "time :781.46\n",
      "\n",
      "Reached: 4525\n",
      "time :1004.30\n",
      "\n",
      "Reached: 5430\n",
      "time :1219.63\n",
      "Time taken for feature extraction: 1220.83\n"
     ]
    }
   ],
   "source": [
    "count=0\n",
    "\n",
    "for file in tr_f:\n",
    "\tavg=[]\n",
    "\tx,sr=librosa.load('train/Train/'+file)\n",
    "#\tx,sr=librosa.load('train/Train/'+file)\n",
    "\n",
    "\t#print(file,sr,np.shape(x))\n",
    "\tmfccs=librosa.feature.mfcc(x,sr=sr)\n",
    "\t#print(len(mfccs))\n",
    "\tif(count==0):\n",
    "\t\ta=[]\n",
    "\t\tfor i in range(len(mfccs)):\n",
    "\t\t\ta.append(i)\t\n",
    "\t\t\tb=pd.DataFrame(columns=a)\n",
    "\t#print(np.shape(mfccs))\n",
    "\t#print(np.shape(sum(mfccs)),len(sum(mfccs)))\n",
    "\t#print(mfccs[0],np.shape(mfccs[0]))\t\n",
    "\tfor i in range(len(mfccs)):\n",
    "\t\tavgapp=sum(mfccs[i])/len(mfccs[i])\n",
    "\t\tavg.append(avgapp)\n",
    "\t\tvarapp=sum(np.power(mfccs[i]-avgapp,2))/len(mfccs[i])\n",
    "\t\t#avg.append(varapp)\n",
    "#\tprint(mfccs,np.shape(mfccs),type(mfccs))\n",
    "\tavg=np.array(avg).reshape(1,len(avg))\t\n",
    "\t#print(mfccs,np.shape(mfccs),type(mfccs))\n",
    "\tavg=pd.DataFrame(data=avg[0:],index=[int(file.replace('.wav',''))])\t\n",
    "\tb=b.append(avg)\n",
    "\tcount=count+1\n",
    "\tll=int(len(tr_f)/6)\t\n",
    "\tif(count%ll==0):\n",
    "#\tif(count%300==0):\n",
    "\t\tstop=timeit.default_timer()\n",
    "\t\tprint('\\nReached: {}'.format(count))\n",
    "\t\tprint('time :{:.2f}'.format(stop-fstart))\n",
    "print('Time taken for feature extraction: {:.2f}'.format(timeit.default_timer()-fstart))\t\n",
    "b=b.sort_index(axis=0)\n",
    "p=pd.DataFrame(data=y,index=list(data['ID'].values),columns=['label'])\n",
    "b=b.fillna(0)\n",
    "b= pd.concat([b, p], axis=1)\n",
    "b[a]=scaler.fit_transform(b[a])\n",
    "\n",
    "X=b[a]\n"
   ]
  },
  {
   "cell_type": "code",
   "execution_count": 4,
   "metadata": {},
   "outputs": [],
   "source": [
    "b_tr,b_ts,y_tr,y_ts = train_test_split(X,y,test_size=0.15,random_state=22)"
   ]
  },
  {
   "cell_type": "code",
   "execution_count": 5,
   "metadata": {},
   "outputs": [
    {
     "name": "stdout",
     "output_type": "stream",
     "text": [
      "Time taken for knn : 9.74 Score of knn: 0.95 [K,p] used =[1, 2]\n",
      "Classification Report for knn :- \n",
      "                   precision    recall  f1-score   support\n",
      "\n",
      " air_conditioner       0.97      0.99      0.98        87\n",
      "        car_horn       0.98      0.88      0.93        50\n",
      "children_playing       0.94      0.93      0.93        95\n",
      "        dog_bark       0.93      0.87      0.90        93\n",
      "        drilling       0.99      0.96      0.97        81\n",
      "   engine_idling       0.97      1.00      0.98        88\n",
      "        gun_shot       0.84      0.94      0.89        34\n",
      "      jackhammer       0.97      1.00      0.98       113\n",
      "           siren       0.98      0.99      0.98        87\n",
      "    street_music       0.91      0.91      0.91        88\n",
      "\n",
      "        accuracy                           0.95       816\n",
      "       macro avg       0.95      0.95      0.95       816\n",
      "    weighted avg       0.95      0.95      0.95       816\n",
      "\n"
     ]
    }
   ],
   "source": [
    "b_tr,b_ts,y_tr,y_ts = train_test_split(X,y,test_size=0.15,random_state=22)\n",
    "k=int(np.power(np.array(list((b_tr).shape)),0.5)[0])\n",
    "if(k%2==0):\n",
    "\tk=k+1\n",
    "\n",
    "Rstart=timeit.default_timer()\n",
    "scorek=0\n",
    "for i in range(1,k+1):\n",
    "\tfor j in range(2,3):\n",
    "\n",
    "\t\tknn = KNeighborsClassifier(n_neighbors = i,p=j)\n",
    "\t\tknn.fit(b_tr,y_tr)\n",
    "\t\tif(scorek < knn.score(b_ts,y_ts)):\n",
    "\t\t\tscorek = knn.score(b_ts,y_ts)\n",
    "\t\t\tfinalk=[i,j]\t\n",
    "Rstop=timeit.default_timer()\n",
    "print('Time taken for knn : {:.2f}'.format(Rstop-Rstart),'Score of knn: {:.2f}'.format(scorek),'[K,p] used ={}'.format(finalk))\n",
    "knn = KNeighborsClassifier(n_neighbors = finalk[0],p=finalk[1])\n",
    "knn.fit(b_tr,y_tr)\n",
    "print('Classification Report for knn :- \\n',classification_report(y_ts,knn.predict(b_ts)))\n"
   ]
  },
  {
   "cell_type": "code",
   "execution_count": 6,
   "metadata": {},
   "outputs": [
    {
     "name": "stdout",
     "output_type": "stream",
     "text": [
      "Time taken for knn : 8.95 Score of knn: 0.96 [K,p] used =[1, 2]\n",
      "Classification Report for knn :- \n",
      "                   precision    recall  f1-score   support\n",
      "\n",
      " air_conditioner       0.98      0.99      0.98        87\n",
      "        car_horn       0.98      0.86      0.91        50\n",
      "children_playing       0.96      0.96      0.96        95\n",
      "        dog_bark       0.92      0.87      0.90        93\n",
      "        drilling       0.97      0.96      0.97        81\n",
      "   engine_idling       0.98      1.00      0.99        88\n",
      "        gun_shot       0.84      0.94      0.89        34\n",
      "      jackhammer       0.97      1.00      0.98       113\n",
      "           siren       0.99      0.99      0.99        87\n",
      "    street_music       0.93      0.94      0.94        88\n",
      "\n",
      "        accuracy                           0.96       816\n",
      "       macro avg       0.95      0.95      0.95       816\n",
      "    weighted avg       0.96      0.96      0.96       816\n",
      "\n"
     ]
    }
   ],
   "source": [
    "X1=X.drop([18],axis=1)\n",
    "b_tr,b_ts,y_tr,y_ts = train_test_split(X1,y,test_size=0.15,random_state=22)\n",
    "k=int(np.power(np.array(list((b_tr).shape)),0.5)[0])\n",
    "if(k%2==0):\n",
    "\tk=k+1\n",
    "\n",
    "Rstart=timeit.default_timer()\n",
    "scorek=0\n",
    "for i in range(1,k+1):\n",
    "\tfor j in range(2,3):\n",
    "\n",
    "\t\tknn = KNeighborsClassifier(n_neighbors = i,p=j)\n",
    "\t\tknn.fit(b_tr,y_tr)\n",
    "\t\tif(scorek < knn.score(b_ts,y_ts)):\n",
    "\t\t\tscorek = knn.score(b_ts,y_ts)\n",
    "\t\t\tfinalk=[i,j]\t\n",
    "Rstop=timeit.default_timer()\n",
    "print('Time taken for knn : {:.2f}'.format(Rstop-Rstart),'Score of knn: {:.2f}'.format(scorek),'[K,p] used ={}'.format(finalk))\n",
    "knn = KNeighborsClassifier(n_neighbors = finalk[0],p=finalk[1])\n",
    "knn.fit(b_tr,y_tr)\n",
    "print('Classification Report for knn :- \\n',classification_report(y_ts,knn.predict(b_ts)))\n"
   ]
  },
  {
   "cell_type": "code",
   "execution_count": 18,
   "metadata": {},
   "outputs": [
    {
     "name": "stdout",
     "output_type": "stream",
     "text": [
      "0.8419117647058824\n",
      "0.9982680233816843\n"
     ]
    }
   ],
   "source": [
    "x=list(range(1,100))\n",
    "y=[]\n",
    "y1=[]\n",
    "\n",
    "clf=RandomForestClassifier()\n",
    "clf.fit(b_tr,y_tr)\n",
    "print(clf.score(b_ts,y_ts))\n",
    "print(clf.score(b_tr,y_tr))    \n",
    "#print(max(y),x[y.index(max(y))])\n",
    "#print(max(y1),x[y1.index(max(y1))])\n",
    "#plt.plot(x,y1,linewidth=2.0)\n",
    "#plt.plot(x,y,linewidth=2.0)\n",
    "#plt.show()"
   ]
  },
  {
   "cell_type": "code",
   "execution_count": 56,
   "metadata": {},
   "outputs": [],
   "source": [
    "y=list(data['Class'].values)\n",
    "\n",
    "b_tr,b_ts,y_tr,y_ts = train_test_split(X1,y,test_size=0.15,random_state=22)"
   ]
  },
  {
   "cell_type": "code",
   "execution_count": 57,
   "metadata": {},
   "outputs": [
    {
     "name": "stdout",
     "output_type": "stream",
     "text": [
      "Time taken for knn : 10.54 Score of knn: 0.96 [K,p] used =[1, 2]\n"
     ]
    }
   ],
   "source": [
    "\n",
    "k=int(np.power(np.array(list((b_tr).shape)),0.5)[0])\n",
    "if(k%2==0):\n",
    "\tk=k+1\n",
    "\n",
    "Rstart=timeit.default_timer()\n",
    "scorek=0\n",
    "for i in range(1,k+1):\n",
    "\tfor j in range(2,3):\n",
    "\n",
    "\t\tknn = KNeighborsClassifier(n_neighbors = i,p=j)\n",
    "\t\tknn.fit(b_tr,y_tr)\n",
    "\t\tif(scorek < knn.score(b_ts,y_ts)):\n",
    "\t\t\tscorek = knn.score(b_ts,y_ts)\n",
    "\t\t\tfinalk=[i,j]\t\n",
    "Rstop=timeit.default_timer()\n",
    "print('Time taken for knn : {:.2f}'.format(Rstop-Rstart),'Score of knn: {:.2f}'.format(scorek),'[K,p] used ={}'.format(finalk))\n",
    "\n",
    "#print('Classification Report for knn :- \\n',classification_report(y_ts,knn.predict(b_ts)))\n"
   ]
  },
  {
   "cell_type": "code",
   "execution_count": 1,
   "metadata": {},
   "outputs": [
    {
     "ename": "NameError",
     "evalue": "name 'X' is not defined",
     "output_type": "error",
     "traceback": [
      "\u001b[0;31m---------------------------------------------------------------------------\u001b[0m",
      "\u001b[0;31mNameError\u001b[0m                                 Traceback (most recent call last)",
      "\u001b[0;32m<ipython-input-1-2310dcc60a21>\u001b[0m in \u001b[0;36m<module>\u001b[0;34m\u001b[0m\n\u001b[1;32m      2\u001b[0m \u001b[0my1\u001b[0m\u001b[0;34m=\u001b[0m\u001b[0;34m[\u001b[0m\u001b[0;34m]\u001b[0m\u001b[0;34m\u001b[0m\u001b[0m\n\u001b[1;32m      3\u001b[0m \u001b[0my2\u001b[0m\u001b[0;34m=\u001b[0m\u001b[0;34m[\u001b[0m\u001b[0;34m]\u001b[0m\u001b[0;34m\u001b[0m\u001b[0m\n\u001b[0;32m----> 4\u001b[0;31m \u001b[0mX1\u001b[0m\u001b[0;34m=\u001b[0m\u001b[0mX\u001b[0m\u001b[0;34m\u001b[0m\u001b[0m\n\u001b[0m\u001b[1;32m      5\u001b[0m \u001b[0;32mfor\u001b[0m \u001b[0mi\u001b[0m \u001b[0;32min\u001b[0m \u001b[0mli\u001b[0m\u001b[0;34m:\u001b[0m\u001b[0;34m\u001b[0m\u001b[0m\n\u001b[1;32m      6\u001b[0m     \u001b[0;32mif\u001b[0m\u001b[0;34m(\u001b[0m\u001b[0mi\u001b[0m\u001b[0;34m!=\u001b[0m\u001b[0;36m20\u001b[0m\u001b[0;34m)\u001b[0m\u001b[0;34m:\u001b[0m\u001b[0;34m\u001b[0m\u001b[0m\n",
      "\u001b[0;31mNameError\u001b[0m: name 'X' is not defined"
     ]
    }
   ],
   "source": [
    "li=list(range(0,21))\n",
    "y1=[]\n",
    "y2=[]\n",
    "X1=X\n",
    "for i in li:\n",
    "    if(i!=20):\n",
    "        X1=X.drop([i],axis=1)\n",
    "    b_tr,b_ts,y_tr,y_ts = train_test_split(X1,y,test_size=0.15,random_state=22)\n",
    "    clf=RandomForestClassifier(n_estimators=61)\n",
    "    clf.fit(b_tr,y_tr)\n",
    "    y2.append(clf.score(b_tr,y_tr))              \n",
    "    y1.append(clf.score(b_ts,y_ts))\n",
    "print(max(y2),li[y2.index(max(y2))])\n",
    "print(max(y1),li[y1.index(max(y1))])\n",
    "plt.plot(li,y1,linewidth=2.0)\n",
    "plt.plot(li,y2,linewidth=2.0)\n",
    "plt.show()              "
   ]
  }
 ],
 "metadata": {
  "kernelspec": {
   "display_name": "Python 3",
   "language": "python",
   "name": "python3"
  },
  "language_info": {
   "codemirror_mode": {
    "name": "ipython",
    "version": 3
   },
   "file_extension": ".py",
   "mimetype": "text/x-python",
   "name": "python",
   "nbconvert_exporter": "python",
   "pygments_lexer": "ipython3",
   "version": "3.5.2"
  }
 },
 "nbformat": 4,
 "nbformat_minor": 2
}
